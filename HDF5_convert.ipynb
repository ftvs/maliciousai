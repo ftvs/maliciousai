{
 "cells": [
  {
   "cell_type": "code",
   "execution_count": 1,
   "metadata": {},
   "outputs": [],
   "source": [
    "import numpy as np\n",
    "import h5py\n",
    "from IPython.display import clear_output\n",
    "\n",
    "import torch\n",
    "\n",
    "import torchvision.transforms.v2 as transforms\n",
    "\n",
    "# custom libraries\n",
    "from utils import *\n",
    "from celebdf2 import *\n",
    "\n",
    "import torch.nn as nn\n",
    "import torch.optim as optim\n",
    "import torchvision\n",
    "\n",
    "from torch.utils.data import DataLoader, random_split\n",
    "\n",
    "from torchvision.models.video import s3d, S3D_Weights\n",
    "from torchvision.datasets.utils import download_url\n"
   ]
  },
  {
   "cell_type": "markdown",
   "metadata": {},
   "source": [
    "### Convert Dataset to HDF5"
   ]
  },
  {
   "cell_type": "code",
   "execution_count": 3,
   "metadata": {},
   "outputs": [
    {
     "name": "stdout",
     "output_type": "stream",
     "text": [
      "Training size: 414\n",
      "Validation size: 104\n",
      "torch.Size([3, 150, 256, 256])\n",
      "1\n"
     ]
    }
   ],
   "source": [
    "device = torch.device(\"cuda\" if torch.cuda.is_available() else \"cpu\")\n",
    "\n",
    "transform = transforms.Compose([\n",
    "    transforms.ConvertImageDtype(torch.float32),    \n",
    "    transforms.Normalize(mean=(0.43216, 0.394666, 0.37645),\n",
    "                        std=(0.22803, 0.22145, 0.216989)),\n",
    "    # transforms.CenterCrop(256),\n",
    "    transforms.Resize((256,256))\n",
    "    # ConvertBCHWtoCBHW()\n",
    "])\n",
    "\n",
    "dataset_path = \"data\"\n",
    "dataset = CelebDF2(dataset_path, transform=transform, max_frames=300, n_frames=150,file_list = 'List_of_testing_videos.txt') # 10s @ 30fps = 300 frames, sample 15 frames per 1s (60,100,150)\n",
    "train_size = int(0.8 * len(dataset))\n",
    "val_size = len(dataset) - train_size\n",
    "train_data, val_data = random_split(dataset, [train_size, val_size])\n",
    "print(f\"Training size: {len(train_data)}\")\n",
    "print(f\"Validation size: {len(val_data)}\")\n",
    "print(val_data[0][0].shape)\n",
    "print(val_data[0][1])"
   ]
  },
  {
   "cell_type": "code",
   "execution_count": 5,
   "metadata": {},
   "outputs": [
    {
     "name": "stdout",
     "output_type": "stream",
     "text": [
      "image\n",
      "label\n"
     ]
    }
   ],
   "source": [
    "# Separate images and labels for validation data\n",
    "val_images = []\n",
    "val_labels = []\n",
    "\n",
    "for i in range(len(val_data)):\n",
    "    # clear_output(wait=False)\n",
    "    # print(f\"val {i}\")\n",
    "    val_images.append(val_data[i][0])  # Assuming images are tensors\n",
    "    val_labels.append(val_data[i][1])          # Assuming labels are scalar or tensor values\n",
    "\n",
    "val_images = torch.stack(val_images)  # Stack the images into a single tensor\n",
    "val_labels = torch.tensor(val_labels)  # Convert labels to tensor if they're not already\n",
    "\n",
    "# train_images = []\n",
    "# train_labels = []\n",
    "\n",
    "# for i in range(len(train_data)):\n",
    "#     train_images.append(train_data[i][0])  # Assuming images are tensors\n",
    "#     train_labels.append(train_data[i][1])          # Assuming labels are scalar or tensor values\n",
    "\n",
    "# train_images = torch.stack(train_images)  # Stack the images into a single tensor\n",
    "# train_labels = torch.tensor(train_labels)  # Convert labels to tensor if they're not already\n",
    "\n",
    "# Save the data in a HDF5 file for faster processing and beter RAM utilization\n",
    "hdf5_path = 'testing_data_val.h5'\n",
    "with h5py.File(hdf5_path, 'w') as hdf5_file:\n",
    "    print(\"image\")\n",
    "    val_images_dataset = hdf5_file.create_dataset(\n",
    "        'Val_images',\n",
    "        data=val_images,\n",
    "        compression=\"gzip\",\n",
    "        compression_opts=6,\n",
    "        chunks=True)\n",
    "    \n",
    "    print(\"label\")\n",
    "    val_labels_dataset = hdf5_file.create_dataset(\n",
    "        'Val_labels',\n",
    "        data=val_labels,\n",
    "        compression=\"gzip\",\n",
    "        compression_opts=6,\n",
    "        chunks=True)  # Labels should be simpler (e.g., scalar or 1D tensor)\n",
    "    \n",
    "    # train_images_dataset = hdf5_file.create_dataset(\n",
    "    #     'Train_images',\n",
    "    #     data=train_images,\n",
    "    #     compression=\"gzip\",\n",
    "    #     compression_opts=6,\n",
    "    #     chunks=True)\n",
    "    \n",
    "    # train_labels_dataset = hdf5_file.create_dataset(\n",
    "    #     'Train_labels',\n",
    "    #     data=train_labels,\n",
    "    #     compression=\"gzip\",\n",
    "    #     compression_opts=6,\n",
    "    #     chunks=True)  # Labels should be simpler (e.g., scalar or 1D tensor)\n"
   ]
  },
  {
   "cell_type": "code",
   "execution_count": 3,
   "metadata": {},
   "outputs": [
    {
     "ename": "NameError",
     "evalue": "name 'val_data' is not defined",
     "output_type": "error",
     "traceback": [
      "\u001b[1;31m---------------------------------------------------------------------------\u001b[0m",
      "\u001b[1;31mNameError\u001b[0m                                 Traceback (most recent call last)",
      "Cell \u001b[1;32mIn[3], line 7\u001b[0m\n\u001b[0;32m      2\u001b[0m hdf5_path \u001b[38;5;241m=\u001b[39m \u001b[38;5;124m'\u001b[39m\u001b[38;5;124mtesting_data.h5\u001b[39m\u001b[38;5;124m'\u001b[39m\n\u001b[0;32m      3\u001b[0m \u001b[38;5;28;01mwith\u001b[39;00m h5py\u001b[38;5;241m.\u001b[39mFile(hdf5_path, \u001b[38;5;124m'\u001b[39m\u001b[38;5;124mw\u001b[39m\u001b[38;5;124m'\u001b[39m) \u001b[38;5;28;01mas\u001b[39;00m hdf5_file:\n\u001b[0;32m      4\u001b[0m     \u001b[38;5;66;03m# hdf5_file.create_dataset('Train_data', data=train_data, compression=\"gzip\", compression_opts=9)\u001b[39;00m\n\u001b[0;32m      5\u001b[0m     val_images_dataset \u001b[38;5;241m=\u001b[39m hdf5_file\u001b[38;5;241m.\u001b[39mcreate_dataset(\n\u001b[0;32m      6\u001b[0m         \u001b[38;5;124m'\u001b[39m\u001b[38;5;124mVal_images\u001b[39m\u001b[38;5;124m'\u001b[39m,\n\u001b[1;32m----> 7\u001b[0m         shape\u001b[38;5;241m=\u001b[39m(\u001b[38;5;28mlen\u001b[39m(val_data), \u001b[38;5;241m3\u001b[39m, \u001b[38;5;241m150\u001b[39m, \u001b[38;5;241m256\u001b[39m, \u001b[38;5;241m256\u001b[39m),\n\u001b[0;32m      8\u001b[0m         compression\u001b[38;5;241m=\u001b[39m\u001b[38;5;124m\"\u001b[39m\u001b[38;5;124mgzip\u001b[39m\u001b[38;5;124m\"\u001b[39m,\n\u001b[0;32m      9\u001b[0m         compression_opts\u001b[38;5;241m=\u001b[39m\u001b[38;5;241m6\u001b[39m,\n\u001b[0;32m     10\u001b[0m         chunks\u001b[38;5;241m=\u001b[39m\u001b[38;5;28;01mTrue\u001b[39;00m)\n\u001b[0;32m     12\u001b[0m     val_labels_dataset \u001b[38;5;241m=\u001b[39m hdf5_file\u001b[38;5;241m.\u001b[39mcreate_dataset(\n\u001b[0;32m     13\u001b[0m         \u001b[38;5;124m'\u001b[39m\u001b[38;5;124mVal_labels\u001b[39m\u001b[38;5;124m'\u001b[39m,\n\u001b[0;32m     14\u001b[0m         shape\u001b[38;5;241m=\u001b[39m(\u001b[38;5;28mlen\u001b[39m(val_data),),\n\u001b[0;32m     15\u001b[0m         compression\u001b[38;5;241m=\u001b[39m\u001b[38;5;124m\"\u001b[39m\u001b[38;5;124mgzip\u001b[39m\u001b[38;5;124m\"\u001b[39m,\n\u001b[0;32m     16\u001b[0m         compression_opts\u001b[38;5;241m=\u001b[39m\u001b[38;5;241m6\u001b[39m,\n\u001b[0;32m     17\u001b[0m         chunks\u001b[38;5;241m=\u001b[39m\u001b[38;5;28;01mTrue\u001b[39;00m)  \u001b[38;5;66;03m# Labels should be simpler (e.g., scalar or 1D tensor)\u001b[39;00m\n\u001b[0;32m     19\u001b[0m     train_images_dataset \u001b[38;5;241m=\u001b[39m hdf5_file\u001b[38;5;241m.\u001b[39mcreate_dataset(\n\u001b[0;32m     20\u001b[0m         \u001b[38;5;124m'\u001b[39m\u001b[38;5;124mTrain_images\u001b[39m\u001b[38;5;124m'\u001b[39m,\n\u001b[0;32m     21\u001b[0m         shape\u001b[38;5;241m=\u001b[39m(\u001b[38;5;28mlen\u001b[39m(train_data), \u001b[38;5;241m3\u001b[39m, \u001b[38;5;241m150\u001b[39m, \u001b[38;5;241m256\u001b[39m, \u001b[38;5;241m256\u001b[39m),\n\u001b[0;32m     22\u001b[0m         compression\u001b[38;5;241m=\u001b[39m\u001b[38;5;124m\"\u001b[39m\u001b[38;5;124mgzip\u001b[39m\u001b[38;5;124m\"\u001b[39m,\n\u001b[0;32m     23\u001b[0m         compression_opts\u001b[38;5;241m=\u001b[39m\u001b[38;5;241m6\u001b[39m,\n\u001b[0;32m     24\u001b[0m         chunks\u001b[38;5;241m=\u001b[39m\u001b[38;5;28;01mTrue\u001b[39;00m)\n",
      "\u001b[1;31mNameError\u001b[0m: name 'val_data' is not defined"
     ]
    }
   ],
   "source": [
    "# # Save the data in a HDF5 file for faster processing and beter RAM utilization\n",
    "# hdf5_path = 'testing_data.h5'\n",
    "# with h5py.File(hdf5_path, 'w') as hdf5_file:\n",
    "#     # hdf5_file.create_dataset('Train_data', data=train_data, compression=\"gzip\", compression_opts=9)\n",
    "#     val_images_dataset = hdf5_file.create_dataset(\n",
    "#         'Val_images',\n",
    "#         shape=(len(val_data), 3, 150, 256, 256),\n",
    "#         compression=\"gzip\",\n",
    "#         compression_opts=6,\n",
    "#         chunks=True)\n",
    "    \n",
    "#     val_labels_dataset = hdf5_file.create_dataset(\n",
    "#         'Val_labels',\n",
    "#         shape=(len(val_data),),\n",
    "#         compression=\"gzip\",\n",
    "#         compression_opts=6,\n",
    "#         chunks=True)  # Labels should be simpler (e.g., scalar or 1D tensor)\n",
    "    \n",
    "#     train_images_dataset = hdf5_file.create_dataset(\n",
    "#         'Train_images',\n",
    "#         shape=(len(train_data), 3, 150, 256, 256),\n",
    "#         compression=\"gzip\",\n",
    "#         compression_opts=6,\n",
    "#         chunks=True)\n",
    "    \n",
    "#     train_labels_dataset = hdf5_file.create_dataset(\n",
    "#         'Train_labels',\n",
    "#         shape=(len(train_data),),\n",
    "#         compression=\"gzip\",\n",
    "#         compression_opts=6,\n",
    "#         chunks=True)  # Labels should be simpler (e.g., scalar or 1D tensor)\n",
    "\n",
    "#     for i in range(len(val_data)):\n",
    "#         # clear_output(wait=False)\n",
    "#         # print(f\"val {i}\")\n",
    "#         val_images_dataset[i] = val_data[i][0] # Assuming images are tensors\n",
    "#         val_labels_dataset[i] = val_data[i][1]\n",
    "\n",
    "#     for i in range(len(train_data)):\n",
    "#         # clear_output(wait=False)\n",
    "#         # print(f\"train {i}\")\n",
    "#         train_images_dataset[i] = train_data[i][0] # Assuming images are tensors\n",
    "#         train_labels_dataset[i] = train_data[i][1]"
   ]
  },
  {
   "cell_type": "code",
   "execution_count": 2,
   "metadata": {},
   "outputs": [
    {
     "name": "stdout",
     "output_type": "stream",
     "text": [
      "Validation Images Shape: torch.Size([104, 3, 150, 256, 256])\n",
      "Validation Labels Shape: torch.Size([104])\n"
     ]
    }
   ],
   "source": [
    "# Define the function to read data from the HDF5 file\n",
    "def read_hdf5(file_path):\n",
    "    with h5py.File(file_path, 'r') as hdf5_file:\n",
    "        # Read the datasets\n",
    "        val_images = hdf5_file['Val_images'][:]  # Read all data from Val_images\n",
    "        val_labels = hdf5_file['Val_labels'][:]  # Read all data from Val_labels\n",
    "\n",
    "        # train_images = hdf5_file['Train_images'][:]  # Read all data from Val_images\n",
    "        # train_labels = hdf5_file['Train_labels'][:]  # Read all data from Val_labels\n",
    "\n",
    "    # Convert NumPy arrays to PyTorch tensors if needed\n",
    "    val_images_tensor = torch.tensor(val_images)\n",
    "    val_labels_tensor = torch.tensor(val_labels)\n",
    "\n",
    "    # Convert NumPy arrays to PyTorch tensors if needed\n",
    "    # train_images_tensor = torch.tensor(train_images)\n",
    "    # train_labels_tensor = torch.tensor(train_labels)\n",
    "\n",
    "    return val_images_tensor, val_labels_tensor, #train_images_tensor, train_labels_tensor\n",
    "\n",
    "# Example usage\n",
    "hdf5_path = 'testing_data.h5'\n",
    "val_images_tensor, val_labels_tensor = read_hdf5(hdf5_path) #, train_images_tensor, train_labels_tensor\n",
    "\n",
    "# Display some information about the loaded data\n",
    "print(f\"Validation Images Shape: {val_images_tensor.shape}\")\n",
    "print(f\"Validation Labels Shape: {val_labels_tensor.shape}\")\n",
    "\n",
    "# print(f\"Training Images Shape: {train_images_tensor.shape}\")\n",
    "# print(f\"Training Labels Shape: {train_labels_tensor.shape}\")"
   ]
  },
  {
   "cell_type": "code",
   "execution_count": null,
   "metadata": {},
   "outputs": [],
   "source": [
    "batch_size = 5\n",
    "epochs = 15\n",
    "\n",
    "model = s3d(weights=S3D_Weights.DEFAULT)\n",
    "freeze(model)\n",
    "# unfreeze(model)\n",
    "# replace final layer with new one with appropriate num of classes\n",
    "model.classifier[1] = nn.Conv3d(1024, 2, kernel_size=1, stride=1)\n",
    "\n",
    "train_loader = DataLoader(train_data, batch_size, pin_memory=True, num_workers=4, persistent_workers=True) #, num_workers=4, persistent_workers=True\n",
    "val_loader = DataLoader(val_data, batch_size, pin_memory=True, num_workers=4, persistent_workers=True) # , num_workers=4, persistent_workers=True # maybe just split from training\n",
    "\n",
    "class_sample_counts = np.array([178, 340])  # Updated with your distribution\n",
    "class_weights = sum(class_sample_counts) / torch.tensor((class_sample_counts*2), dtype=torch.float)\n",
    "\n",
    "trainer = BaseTrainer(\n",
    "        model,\n",
    "        nn.CrossEntropyLoss(weight=class_weights.to(device)),\n",
    "        # nn.CrossEntropyLoss(),\n",
    "\n",
    "        # SGD: overfit/train slow + good generalise well\n",
    "        optim.SGD(model.parameters(), lr=0.001, momentum=0.9,weight_decay=0.0005), #lr=1e-3,weight_decay=0.0005\n",
    "\n",
    "        # Adam: overfits/train fast + generalise ok but may not be optimal\n",
    "        # optim.Adam(model.parameters(), lr=1e-3,weight_decay=0.0005),\n",
    "\n",
    "        # AdamW: overfits/train very fast + generalise ok\n",
    "        # optim.AdamW(model.parameters(), lr=0.001, betas=(0.9, 0.999), eps=1e-08, weight_decay=0.0005), #default: betas=(0.9, 0.999), eps=1e-08, weight_decay=0.01\n",
    "        \n",
    "        train_loader,\n",
    "        val_loader,\n",
    "        device = device)\n",
    "\n",
    "train_log, val_log = trainer.fit(epochs)\n"
   ]
  }
 ],
 "metadata": {
  "kernelspec": {
   "display_name": "Deep_Learning_V2",
   "language": "python",
   "name": "python3"
  },
  "language_info": {
   "codemirror_mode": {
    "name": "ipython",
    "version": 3
   },
   "file_extension": ".py",
   "mimetype": "text/x-python",
   "name": "python",
   "nbconvert_exporter": "python",
   "pygments_lexer": "ipython3",
   "version": "3.12.4"
  }
 },
 "nbformat": 4,
 "nbformat_minor": 2
}
